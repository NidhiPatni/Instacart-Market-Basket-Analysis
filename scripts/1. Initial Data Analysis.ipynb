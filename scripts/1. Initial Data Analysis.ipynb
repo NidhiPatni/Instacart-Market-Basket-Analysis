{
 "cells": [
  {
   "cell_type": "markdown",
   "id": "3f50224d",
   "metadata": {},
   "source": [
    "### Importing necessary libraries"
   ]
  },
  {
   "cell_type": "code",
   "execution_count": 11,
   "id": "2ba9b7b8",
   "metadata": {},
   "outputs": [],
   "source": [
    "import numpy as np\n",
    "import pandas as pd\n",
    "import matplotlib.pyplot as plt\n",
    "import seaborn as sns\n",
    "import gc\n",
    "from IPython.display import display, HTML\n",
    "from tabulate import tabulate\n",
    "\n",
    "root_csv = '../csv files/'"
   ]
  },
  {
   "cell_type": "markdown",
   "id": "505ac0e3",
   "metadata": {},
   "source": [
    "### Reading csv files"
   ]
  },
  {
   "cell_type": "code",
   "execution_count": 8,
   "id": "bc0b7455",
   "metadata": {},
   "outputs": [],
   "source": [
    "orders = pd.read_csv(root_csv + 'orders.csv')\n",
    "departments = pd.read_csv(root_csv + 'departments.csv')\n",
    "aisles = pd.read_csv(root_csv + 'aisles.csv')\n",
    "products = pd.read_csv(root_csv + 'products.csv')\n",
    "order_products_train = pd.read_csv(root_csv + 'order_products_train.csv')\n",
    "order_products_prior = pd.read_csv(root_csv + 'order_products_prior.csv')"
   ]
  },
  {
   "cell_type": "markdown",
   "id": "fb705a0c",
   "metadata": {},
   "source": [
    "### Checking data of all dataframes"
   ]
  },
  {
   "cell_type": "code",
   "execution_count": 9,
   "id": "1460b4cf",
   "metadata": {},
   "outputs": [
    {
     "name": "stdout",
     "output_type": "stream",
     "text": [
      "aisles:\n"
     ]
    },
    {
     "data": {
      "text/html": [
       "<table border=\"1\" class=\"dataframe\">\n",
       "  <thead>\n",
       "    <tr style=\"text-align: right;\">\n",
       "      <th></th>\n",
       "      <th>aisle_id</th>\n",
       "      <th>aisle</th>\n",
       "    </tr>\n",
       "  </thead>\n",
       "  <tbody>\n",
       "    <tr>\n",
       "      <th>0</th>\n",
       "      <td>1</td>\n",
       "      <td>prepared soups salads</td>\n",
       "    </tr>\n",
       "    <tr>\n",
       "      <th>1</th>\n",
       "      <td>2</td>\n",
       "      <td>specialty cheeses</td>\n",
       "    </tr>\n",
       "    <tr>\n",
       "      <th>2</th>\n",
       "      <td>3</td>\n",
       "      <td>energy granola bars</td>\n",
       "    </tr>\n",
       "    <tr>\n",
       "      <th>3</th>\n",
       "      <td>4</td>\n",
       "      <td>instant foods</td>\n",
       "    </tr>\n",
       "    <tr>\n",
       "      <th>4</th>\n",
       "      <td>5</td>\n",
       "      <td>marinades meat preparation</td>\n",
       "    </tr>\n",
       "  </tbody>\n",
       "</table>"
      ],
      "text/plain": [
       "<IPython.core.display.HTML object>"
      ]
     },
     "metadata": {},
     "output_type": "display_data"
    },
    {
     "name": "stdout",
     "output_type": "stream",
     "text": [
      "\n",
      "departments:\n"
     ]
    },
    {
     "data": {
      "text/html": [
       "<table border=\"1\" class=\"dataframe\">\n",
       "  <thead>\n",
       "    <tr style=\"text-align: right;\">\n",
       "      <th></th>\n",
       "      <th>department_id</th>\n",
       "      <th>department</th>\n",
       "    </tr>\n",
       "  </thead>\n",
       "  <tbody>\n",
       "    <tr>\n",
       "      <th>0</th>\n",
       "      <td>1</td>\n",
       "      <td>frozen</td>\n",
       "    </tr>\n",
       "    <tr>\n",
       "      <th>1</th>\n",
       "      <td>2</td>\n",
       "      <td>other</td>\n",
       "    </tr>\n",
       "    <tr>\n",
       "      <th>2</th>\n",
       "      <td>3</td>\n",
       "      <td>bakery</td>\n",
       "    </tr>\n",
       "    <tr>\n",
       "      <th>3</th>\n",
       "      <td>4</td>\n",
       "      <td>produce</td>\n",
       "    </tr>\n",
       "    <tr>\n",
       "      <th>4</th>\n",
       "      <td>5</td>\n",
       "      <td>alcohol</td>\n",
       "    </tr>\n",
       "  </tbody>\n",
       "</table>"
      ],
      "text/plain": [
       "<IPython.core.display.HTML object>"
      ]
     },
     "metadata": {},
     "output_type": "display_data"
    },
    {
     "name": "stdout",
     "output_type": "stream",
     "text": [
      "\n",
      "products:\n"
     ]
    },
    {
     "data": {
      "text/html": [
       "<table border=\"1\" class=\"dataframe\">\n",
       "  <thead>\n",
       "    <tr style=\"text-align: right;\">\n",
       "      <th></th>\n",
       "      <th>product_id</th>\n",
       "      <th>product_name</th>\n",
       "      <th>aisle_id</th>\n",
       "      <th>department_id</th>\n",
       "    </tr>\n",
       "  </thead>\n",
       "  <tbody>\n",
       "    <tr>\n",
       "      <th>0</th>\n",
       "      <td>1</td>\n",
       "      <td>Chocolate Sandwich Cookies</td>\n",
       "      <td>61</td>\n",
       "      <td>19</td>\n",
       "    </tr>\n",
       "    <tr>\n",
       "      <th>1</th>\n",
       "      <td>2</td>\n",
       "      <td>All-Seasons Salt</td>\n",
       "      <td>104</td>\n",
       "      <td>13</td>\n",
       "    </tr>\n",
       "    <tr>\n",
       "      <th>2</th>\n",
       "      <td>3</td>\n",
       "      <td>Robust Golden Unsweetened Oolong Tea</td>\n",
       "      <td>94</td>\n",
       "      <td>7</td>\n",
       "    </tr>\n",
       "    <tr>\n",
       "      <th>3</th>\n",
       "      <td>4</td>\n",
       "      <td>Smart Ones Classic Favorites Mini Rigatoni With Vodka Cream Sauce</td>\n",
       "      <td>38</td>\n",
       "      <td>1</td>\n",
       "    </tr>\n",
       "    <tr>\n",
       "      <th>4</th>\n",
       "      <td>5</td>\n",
       "      <td>Green Chile Anytime Sauce</td>\n",
       "      <td>5</td>\n",
       "      <td>13</td>\n",
       "    </tr>\n",
       "  </tbody>\n",
       "</table>"
      ],
      "text/plain": [
       "<IPython.core.display.HTML object>"
      ]
     },
     "metadata": {},
     "output_type": "display_data"
    },
    {
     "name": "stdout",
     "output_type": "stream",
     "text": [
      "\n",
      "orders:\n"
     ]
    },
    {
     "data": {
      "text/html": [
       "<table border=\"1\" class=\"dataframe\">\n",
       "  <thead>\n",
       "    <tr style=\"text-align: right;\">\n",
       "      <th></th>\n",
       "      <th>order_id</th>\n",
       "      <th>user_id</th>\n",
       "      <th>eval_set</th>\n",
       "      <th>order_number</th>\n",
       "      <th>order_dow</th>\n",
       "      <th>order_hour_of_day</th>\n",
       "      <th>days_since_prior_order</th>\n",
       "    </tr>\n",
       "  </thead>\n",
       "  <tbody>\n",
       "    <tr>\n",
       "      <th>0</th>\n",
       "      <td>2539329</td>\n",
       "      <td>1</td>\n",
       "      <td>prior</td>\n",
       "      <td>1</td>\n",
       "      <td>2</td>\n",
       "      <td>8</td>\n",
       "      <td>NaN</td>\n",
       "    </tr>\n",
       "    <tr>\n",
       "      <th>1</th>\n",
       "      <td>2398795</td>\n",
       "      <td>1</td>\n",
       "      <td>prior</td>\n",
       "      <td>2</td>\n",
       "      <td>3</td>\n",
       "      <td>7</td>\n",
       "      <td>15.0</td>\n",
       "    </tr>\n",
       "    <tr>\n",
       "      <th>2</th>\n",
       "      <td>473747</td>\n",
       "      <td>1</td>\n",
       "      <td>prior</td>\n",
       "      <td>3</td>\n",
       "      <td>3</td>\n",
       "      <td>12</td>\n",
       "      <td>21.0</td>\n",
       "    </tr>\n",
       "    <tr>\n",
       "      <th>3</th>\n",
       "      <td>2254736</td>\n",
       "      <td>1</td>\n",
       "      <td>prior</td>\n",
       "      <td>4</td>\n",
       "      <td>4</td>\n",
       "      <td>7</td>\n",
       "      <td>29.0</td>\n",
       "    </tr>\n",
       "    <tr>\n",
       "      <th>4</th>\n",
       "      <td>431534</td>\n",
       "      <td>1</td>\n",
       "      <td>prior</td>\n",
       "      <td>5</td>\n",
       "      <td>4</td>\n",
       "      <td>15</td>\n",
       "      <td>28.0</td>\n",
       "    </tr>\n",
       "  </tbody>\n",
       "</table>"
      ],
      "text/plain": [
       "<IPython.core.display.HTML object>"
      ]
     },
     "metadata": {},
     "output_type": "display_data"
    },
    {
     "name": "stdout",
     "output_type": "stream",
     "text": [
      "\n",
      "order_products_train:\n"
     ]
    },
    {
     "data": {
      "text/html": [
       "<table border=\"1\" class=\"dataframe\">\n",
       "  <thead>\n",
       "    <tr style=\"text-align: right;\">\n",
       "      <th></th>\n",
       "      <th>order_id</th>\n",
       "      <th>product_id</th>\n",
       "      <th>add_to_cart_order</th>\n",
       "      <th>reordered</th>\n",
       "    </tr>\n",
       "  </thead>\n",
       "  <tbody>\n",
       "    <tr>\n",
       "      <th>0</th>\n",
       "      <td>1</td>\n",
       "      <td>49302</td>\n",
       "      <td>1</td>\n",
       "      <td>1</td>\n",
       "    </tr>\n",
       "    <tr>\n",
       "      <th>1</th>\n",
       "      <td>1</td>\n",
       "      <td>11109</td>\n",
       "      <td>2</td>\n",
       "      <td>1</td>\n",
       "    </tr>\n",
       "    <tr>\n",
       "      <th>2</th>\n",
       "      <td>1</td>\n",
       "      <td>10246</td>\n",
       "      <td>3</td>\n",
       "      <td>0</td>\n",
       "    </tr>\n",
       "    <tr>\n",
       "      <th>3</th>\n",
       "      <td>1</td>\n",
       "      <td>49683</td>\n",
       "      <td>4</td>\n",
       "      <td>0</td>\n",
       "    </tr>\n",
       "    <tr>\n",
       "      <th>4</th>\n",
       "      <td>1</td>\n",
       "      <td>43633</td>\n",
       "      <td>5</td>\n",
       "      <td>1</td>\n",
       "    </tr>\n",
       "  </tbody>\n",
       "</table>"
      ],
      "text/plain": [
       "<IPython.core.display.HTML object>"
      ]
     },
     "metadata": {},
     "output_type": "display_data"
    },
    {
     "name": "stdout",
     "output_type": "stream",
     "text": [
      "\n",
      "order_products_prior:\n"
     ]
    },
    {
     "data": {
      "text/html": [
       "<table border=\"1\" class=\"dataframe\">\n",
       "  <thead>\n",
       "    <tr style=\"text-align: right;\">\n",
       "      <th></th>\n",
       "      <th>order_id</th>\n",
       "      <th>product_id</th>\n",
       "      <th>add_to_cart_order</th>\n",
       "      <th>reordered</th>\n",
       "    </tr>\n",
       "  </thead>\n",
       "  <tbody>\n",
       "    <tr>\n",
       "      <th>0</th>\n",
       "      <td>2</td>\n",
       "      <td>33120</td>\n",
       "      <td>1</td>\n",
       "      <td>1</td>\n",
       "    </tr>\n",
       "    <tr>\n",
       "      <th>1</th>\n",
       "      <td>2</td>\n",
       "      <td>28985</td>\n",
       "      <td>2</td>\n",
       "      <td>1</td>\n",
       "    </tr>\n",
       "    <tr>\n",
       "      <th>2</th>\n",
       "      <td>2</td>\n",
       "      <td>9327</td>\n",
       "      <td>3</td>\n",
       "      <td>0</td>\n",
       "    </tr>\n",
       "    <tr>\n",
       "      <th>3</th>\n",
       "      <td>2</td>\n",
       "      <td>45918</td>\n",
       "      <td>4</td>\n",
       "      <td>1</td>\n",
       "    </tr>\n",
       "    <tr>\n",
       "      <th>4</th>\n",
       "      <td>2</td>\n",
       "      <td>30035</td>\n",
       "      <td>5</td>\n",
       "      <td>0</td>\n",
       "    </tr>\n",
       "  </tbody>\n",
       "</table>"
      ],
      "text/plain": [
       "<IPython.core.display.HTML object>"
      ]
     },
     "metadata": {},
     "output_type": "display_data"
    }
   ],
   "source": [
    "print(\"aisles:\")\n",
    "display(HTML(aisles.head(5).to_html()))\n",
    "\n",
    "print(\"\\ndepartments:\")\n",
    "display(HTML(departments.head(5).to_html()))\n",
    "\n",
    "print(\"\\nproducts:\")\n",
    "display(HTML(products.head(5).to_html()))\n",
    "\n",
    "print(\"\\norders:\")\n",
    "display(HTML(orders.head(5).to_html()))\n",
    "\n",
    "print(\"\\norder_products_train:\")\n",
    "display(HTML(order_products_train.head(5).to_html()))\n",
    "\n",
    "print(\"\\norder_products_prior:\")\n",
    "display(HTML(order_products_prior.head(5).to_html()))"
   ]
  },
  {
   "cell_type": "markdown",
   "id": "10a03ab1",
   "metadata": {},
   "source": [
    "### Checking number of rows and columns of all dataframes"
   ]
  },
  {
   "cell_type": "code",
   "execution_count": 10,
   "id": "37581881",
   "metadata": {},
   "outputs": [
    {
     "name": "stdout",
     "output_type": "stream",
     "text": [
      "aisles : (134, 2)\n",
      "departments :  (21, 2)\n",
      "order_prod_prior : (32434489, 4)\n",
      "order_products_train :  (1384617, 4)\n",
      "orders :  (3421083, 7)\n",
      "products :  (49688, 4)\n"
     ]
    }
   ],
   "source": [
    "print(\"aisles :\", aisles.shape) \n",
    "print(\"departments : \",departments.shape) \n",
    "print(\"order_prod_prior :\" ,order_products_prior.shape)\n",
    "print(\"order_products_train : \",order_products_train.shape)\n",
    "print(\"orders : \",orders.shape) \n",
    "print(\"products : \",products.shape)"
   ]
  },
  {
   "cell_type": "markdown",
   "id": "b57fdfb3",
   "metadata": {},
   "source": [
    "### Checking for missing values, features and datatypes, columns with all values zeros for all dataframes"
   ]
  },
  {
   "cell_type": "code",
   "execution_count": 12,
   "id": "dcb2db07",
   "metadata": {},
   "outputs": [
    {
     "name": "stdout",
     "output_type": "stream",
     "text": [
      "\n",
      "Features and Datatypes of aisles :\n",
      "\n",
      "Column Name    Data Type      Missing Values    All Values Zero\n",
      "-------------  -----------  ----------------  -----------------\n",
      "aisle_id       int64                       0                  0\n",
      "aisle          object                      0                  0\n",
      "\n",
      "Features and Datatypes of departments :\n",
      "\n",
      "Column Name    Data Type      Missing Values    All Values Zero\n",
      "-------------  -----------  ----------------  -----------------\n",
      "department_id  int64                       0                  0\n",
      "department     object                      0                  0\n",
      "\n",
      "Features and Datatypes of orders :\n",
      "\n",
      "Column Name             Data Type      Missing Values    All Values Zero\n",
      "----------------------  -----------  ----------------  -----------------\n",
      "order_id                int64                       0                  0\n",
      "user_id                 int64                       0                  0\n",
      "eval_set                object                      0                  0\n",
      "order_number            int64                       0                  0\n",
      "order_dow               int64                       0                  0\n",
      "order_hour_of_day       int64                       0                  0\n",
      "days_since_prior_order  float64                206209                  0\n",
      "\n",
      "Features and Datatypes of products :\n",
      "\n",
      "Column Name    Data Type      Missing Values    All Values Zero\n",
      "-------------  -----------  ----------------  -----------------\n",
      "product_id     int64                       0                  0\n",
      "product_name   object                      0                  0\n",
      "aisle_id       int64                       0                  0\n",
      "department_id  int64                       0                  0\n",
      "\n",
      "Features and Datatypes of order_products_prior :\n",
      "\n",
      "Column Name        Data Type      Missing Values    All Values Zero\n",
      "-----------------  -----------  ----------------  -----------------\n",
      "order_id           int64                       0                  0\n",
      "product_id         int64                       0                  0\n",
      "add_to_cart_order  int64                       0                  0\n",
      "reordered          int64                       0                  0\n",
      "\n",
      "Features and Datatypes of order_products_train :\n",
      "\n",
      "Column Name        Data Type      Missing Values    All Values Zero\n",
      "-----------------  -----------  ----------------  -----------------\n",
      "order_id           int64                       0                  0\n",
      "product_id         int64                       0                  0\n",
      "add_to_cart_order  int64                       0                  0\n",
      "reordered          int64                       0                  0\n"
     ]
    }
   ],
   "source": [
    "# aisles\n",
    "columns = aisles.columns\n",
    "Table_data = [[\"Column Name\",\"Data Type\",\"Missing Values\", \"All Values Zero\"]]\n",
    "\n",
    "for cols in columns:\n",
    "    data_type = aisles[cols].dtype\n",
    "    missing_value = aisles[cols].isnull().sum()\n",
    "    all_values_zero = (aisles[cols] == 0).all()\n",
    "    data = [cols,data_type,missing_value,all_values_zero]\n",
    "    Table_data.append(data)\n",
    "    \n",
    "print(\"\\nFeatures and Datatypes of aisles :\\n\")\n",
    "print(tabulate(Table_data, headers=\"firstrow\"))\n",
    "\n",
    "\n",
    "# departments\n",
    "columns = departments.columns\n",
    "Table_data = [[\"Column Name\",\"Data Type\",\"Missing Values\", \"All Values Zero\"]]\n",
    "\n",
    "for cols in columns:\n",
    "    data_type = departments[cols].dtype\n",
    "    missing_value = departments[cols].isnull().sum()\n",
    "    all_values_zero = (departments[cols] == 0).all()\n",
    "    data = [cols,data_type,missing_value,all_values_zero]\n",
    "    Table_data.append(data)\n",
    "    \n",
    "print(\"\\nFeatures and Datatypes of departments :\\n\")\n",
    "print(tabulate(Table_data, headers=\"firstrow\"))\n",
    "\n",
    "\n",
    "# orders\n",
    "columns = orders.columns\n",
    "Table_data = [[\"Column Name\",\"Data Type\",\"Missing Values\", \"All Values Zero\"]]\n",
    "\n",
    "for cols in columns:\n",
    "    data_type = orders[cols].dtype\n",
    "    missing_value = orders[cols].isnull().sum()\n",
    "    all_values_zero = (orders[cols] == 0).all()\n",
    "    data = [cols,data_type,missing_value,all_values_zero]\n",
    "    Table_data.append(data)\n",
    "    \n",
    "print(\"\\nFeatures and Datatypes of orders :\\n\")\n",
    "print(tabulate(Table_data, headers=\"firstrow\"))\n",
    "\n",
    "\n",
    "# products\n",
    "columns= products.columns\n",
    "Table_data = [[\"Column Name\",\"Data Type\",\"Missing Values\", \"All Values Zero\"]]\n",
    "\n",
    "for cols in columns:\n",
    "    data_type = products[cols].dtype\n",
    "    missing_value = products[cols].isnull().sum()\n",
    "    all_values_zero = (products[cols] == 0).all()\n",
    "    data = [cols,data_type,missing_value,all_values_zero]\n",
    "    Table_data.append(data)\n",
    "\n",
    "print(\"\\nFeatures and Datatypes of products :\\n\")\n",
    "print(tabulate(Table_data, headers=\"firstrow\"))\n",
    "\n",
    "\n",
    "# order_products_prior\n",
    "columns = order_products_prior.columns\n",
    "Table_data = [[\"Column Name\",\"Data Type\",\"Missing Values\", \"All Values Zero\"]]\n",
    "\n",
    "for cols in columns:\n",
    "    data_type = order_products_prior[cols].dtype\n",
    "    missing_value = order_products_prior[cols].isnull().sum()\n",
    "    all_values_zero = (order_products_prior[cols] == 0).all()\n",
    "    data = [cols,data_type,missing_value,all_values_zero]\n",
    "    Table_data.append(data)\n",
    "\n",
    "print(\"\\nFeatures and Datatypes of order_products_prior :\\n\")\n",
    "print(tabulate(Table_data, headers=\"firstrow\"))\n",
    "\n",
    "\n",
    "# order_products_train\n",
    "columns = order_products_train.columns\n",
    "Table_data = [[\"Column Name\",\"Data Type\",\"Missing Values\", \"All Values Zero\"]]\n",
    "\n",
    "for cols in columns:\n",
    "    data_type = order_products_train[cols].dtype\n",
    "    missing_value = order_products_train[cols].isnull().sum()\n",
    "    all_values_zero = (order_products_train[cols] == 0).all()\n",
    "    data = [cols,data_type,missing_value,all_values_zero]\n",
    "    Table_data.append(data)\n",
    "\n",
    "print(\"\\nFeatures and Datatypes of order_products_train :\\n\")\n",
    "print(tabulate(Table_data, headers=\"firstrow\"))"
   ]
  },
  {
   "cell_type": "markdown",
   "id": "2148f8ce",
   "metadata": {},
   "source": [
    "### Checking for duplicate values for all dataframes"
   ]
  },
  {
   "cell_type": "code",
   "execution_count": 14,
   "id": "8bd70ffe",
   "metadata": {},
   "outputs": [
    {
     "name": "stdout",
     "output_type": "stream",
     "text": [
      "\n",
      "orders:\n",
      "Number of duplicate rows: 0\n",
      "\n",
      "products:\n",
      "Number of duplicate rows: 0\n",
      "\n",
      "order_products_prior:\n",
      "Number of duplicate rows: 0\n",
      "\n",
      "order_products_train:\n",
      "Number of duplicate rows: 0\n",
      "\n",
      "aisles:\n",
      "Number of duplicate rows: 0\n",
      "\n",
      "departments:\n",
      "Number of duplicate rows: 0\n"
     ]
    }
   ],
   "source": [
    "dataframes = {\n",
    "    'orders': orders,\n",
    "    'products': products,\n",
    "    'order_products_prior': order_products_prior,\n",
    "    'order_products_train': order_products_train,\n",
    "    'aisles': aisles,\n",
    "    'departments': departments\n",
    "}\n",
    "\n",
    "for name, df in dataframes.items():\n",
    "    duplicates = df[df.duplicated()]\n",
    "    \n",
    "    print(f\"\\n{name}:\")\n",
    "    print(\"Number of duplicate rows:\", len(duplicates))\n",
    "    \n",
    "    if not duplicates.empty:\n",
    "        print(\"Duplicate rows:\")\n",
    "        print(duplicates)"
   ]
  },
  {
   "cell_type": "markdown",
   "id": "97bb447b",
   "metadata": {},
   "source": [
    "### Checking for unique values for all dataframes"
   ]
  },
  {
   "cell_type": "code",
   "execution_count": 17,
   "id": "dfa58872",
   "metadata": {},
   "outputs": [
    {
     "name": "stdout",
     "output_type": "stream",
     "text": [
      "Number of unique aisles: 134\n",
      "Number of unique departments: 21\n",
      "Number of unique orders in orders: 3421083\n",
      "Number of unique users in orders: 206209\n",
      "Number of unique orders in order_products_train:  131209\n",
      "Number of unique orders in order_products_prior:  3214874\n"
     ]
    }
   ],
   "source": [
    "print(\"Number of unique aisles:\", len(aisles.aisle.unique()))\n",
    "print(\"Number of unique departments:\", len(departments.department.unique()))\n",
    "print(\"Number of unique orders in orders:\", len(orders.order_id.unique()))\n",
    "print(\"Number of unique users in orders:\", len(orders.user_id.unique()))\n",
    "print(\"Number of unique orders in order_products_train: \",len(order_products_train.order_id.unique()))\n",
    "print(\"Number of unique orders in order_products_prior: \",len(order_products_prior.order_id.unique()))"
   ]
  },
  {
   "cell_type": "markdown",
   "id": "9e82cf19",
   "metadata": {},
   "source": [
    "### Checking prior, train, test count from orders dataframe"
   ]
  },
  {
   "cell_type": "code",
   "execution_count": 18,
   "id": "c2a02805",
   "metadata": {},
   "outputs": [
    {
     "name": "stdout",
     "output_type": "stream",
     "text": [
      "Number of records in data split of orders:\n",
      " prior    3214874\n",
      "train     131209\n",
      "test       75000\n",
      "Name: eval_set, dtype: int64\n"
     ]
    }
   ],
   "source": [
    "print(\"Number of records in data split of orders:\\n\",orders.eval_set.value_counts())"
   ]
  },
  {
   "cell_type": "markdown",
   "id": "b4c17e7d",
   "metadata": {},
   "source": [
    "### Checking reordered count in train and test dataframes"
   ]
  },
  {
   "cell_type": "code",
   "execution_count": 21,
   "id": "dbfc9987",
   "metadata": {},
   "outputs": [
    {
     "name": "stdout",
     "output_type": "stream",
     "text": [
      "Count of number of items reordered in order_products_prior\n",
      " 1    19126536\n",
      "0    13307953\n",
      "Name: reordered, dtype: int64\n",
      "\n",
      "Count of number of items reordered in order_products_train\n",
      " 1    828824\n",
      "0    555793\n",
      "Name: reordered, dtype: int64\n"
     ]
    }
   ],
   "source": [
    "print(\"Count of number of items reordered in order_products_prior\\n\",order_products_prior.reordered.value_counts())\n",
    "print(\"\\nCount of number of items reordered in order_products_train\\n\",order_products_train.reordered.value_counts())"
   ]
  }
 ],
 "metadata": {
  "kernelspec": {
   "display_name": "Python 3 (ipykernel)",
   "language": "python",
   "name": "python3"
  },
  "language_info": {
   "codemirror_mode": {
    "name": "ipython",
    "version": 3
   },
   "file_extension": ".py",
   "mimetype": "text/x-python",
   "name": "python",
   "nbconvert_exporter": "python",
   "pygments_lexer": "ipython3",
   "version": "3.9.13"
  }
 },
 "nbformat": 4,
 "nbformat_minor": 5
}
