{
 "cells": [
  {
   "cell_type": "markdown",
   "metadata": {},
   "source": [
    "### Importing necessary libraries"
   ]
  },
  {
   "cell_type": "code",
   "execution_count": 1,
   "metadata": {},
   "outputs": [],
   "source": [
    "import numpy as np\n",
    "import pandas as pd\n",
    "import matplotlib.pyplot as plt\n",
    "import seaborn as sns\n",
    "import gc\n",
    "from sklearn.model_selection import train_test_split, GridSearchCV, cross_val_score\n",
    "from sklearn.metrics import confusion_matrix, accuracy_score, classification_report\n",
    "from sklearn.metrics import roc_auc_score, roc_curve, precision_score, recall_score, f1_score\n",
    "import xgboost as xgb\n",
    "from tabulate import tabulate\n",
    "from sklearn.decomposition import PCA\n",
    "from sklearn.feature_selection import SequentialFeatureSelector\n",
    "from sklearn.ensemble import RandomForestRegressor, RandomForestClassifier\n",
    "from sklearn.feature_selection import SequentialFeatureSelector\n",
    "\n",
    "# code to ignore warnings\n",
    "import warnings\n",
    "warnings.filterwarnings(\"ignore\")\n",
    "\n",
    "pd.options.mode.chained_assignment = None\n",
    "\n",
    "root_pickle = '../pickle files/'\n",
    "root_csv = '../csv files/'"
   ]
  },
  {
   "cell_type": "markdown",
   "metadata": {},
   "source": [
    "### Creating a function to reduce the memory of dataframe"
   ]
  },
  {
   "cell_type": "code",
   "execution_count": 2,
   "metadata": {},
   "outputs": [],
   "source": [
    "def reduce_memory(data):\n",
    "    if isinstance(data, pd.DataFrame):\n",
    "        start_mem_usg = data.memory_usage().sum() / 1024**2\n",
    "        print(\"Memory usage of dataframe is:\", start_mem_usg, \"MB\")\n",
    "\n",
    "        for col in data.columns:\n",
    "            col_type = data[col].dtype\n",
    "\n",
    "            if col_type in [\"int64\", \"int32\", \"int16\"]:\n",
    "                c_min = data[col].min()\n",
    "                c_max = data[col].max()\n",
    "\n",
    "                if c_min > np.iinfo(np.int8).min and c_max < np.iinfo(np.int8).max:\n",
    "                    data[col] = data[col].astype(np.int8)\n",
    "                elif c_min > np.iinfo(np.int16).min and c_max < np.iinfo(np.int16).max:\n",
    "                    data[col] = data[col].astype(np.int16)\n",
    "                elif c_min > np.iinfo(np.int32).min and c_max < np.iinfo(np.int32).max:\n",
    "                    data[col] = data[col].astype(np.int32)\n",
    "\n",
    "            if col_type in [\"float64\", \"float32\"]:\n",
    "                c_min = data[col].min()\n",
    "                c_max = data[col].max()\n",
    "\n",
    "                if c_min > np.finfo(np.float16).min and c_max < np.finfo(np.float16).max:\n",
    "                    data[col] = data[col].astype(np.float16)\n",
    "                elif c_min > np.finfo(np.float32).min and c_max < np.finfo(np.float32).max:\n",
    "                    data[col] = data[col].astype(np.float32)\n",
    "\n",
    "        end_mem_usg = data.memory_usage().sum() / 1024**2\n",
    "        print(\"Memory usage after optimization:\", end_mem_usg, \"MB\")\n",
    "        print(\"Reduced by {:.1f}%\".format(100 * (start_mem_usg - end_mem_usg) / start_mem_usg))\n",
    "        return data\n",
    "\n",
    "    elif isinstance(data, np.ndarray):\n",
    "        mem_usg = data.nbytes / 1024**2\n",
    "        print(\"Memory usage of NumPy array is:\", mem_usg, \"MB\")\n",
    "        return data\n",
    "\n",
    "    else:\n",
    "        print(\"Unsupported data type. Only Pandas DataFrame and NumPy array are supported.\")\n",
    "        return data\n"
   ]
  },
  {
   "cell_type": "markdown",
   "metadata": {},
   "source": [
    "### Creating a dataframe using Finaldata pickle file created during Data Preparation step"
   ]
  },
  {
   "cell_type": "code",
   "execution_count": 3,
   "metadata": {},
   "outputs": [
    {
     "name": "stdout",
     "output_type": "stream",
     "text": [
      "Memory usage of dataframe is: 1244.6382465362549 MB\n",
      "Memory usage after optimization: 1244.6382465362549 MB\n",
      "Reduced by 0.0%\n"
     ]
    },
    {
     "data": {
      "text/html": [
       "<div>\n",
       "<style scoped>\n",
       "    .dataframe tbody tr th:only-of-type {\n",
       "        vertical-align: middle;\n",
       "    }\n",
       "\n",
       "    .dataframe tbody tr th {\n",
       "        vertical-align: top;\n",
       "    }\n",
       "\n",
       "    .dataframe thead th {\n",
       "        text-align: right;\n",
       "    }\n",
       "</style>\n",
       "<table border=\"1\" class=\"dataframe\">\n",
       "  <thead>\n",
       "    <tr style=\"text-align: right;\">\n",
       "      <th></th>\n",
       "      <th>user_id</th>\n",
       "      <th>product_id</th>\n",
       "      <th>total_product_orders_by_user</th>\n",
       "      <th>total_product_reorders_by_user</th>\n",
       "      <th>user_product_reorder_percentage</th>\n",
       "      <th>avg_add_to_cart_by_user</th>\n",
       "      <th>avg_days_since_last_bought</th>\n",
       "      <th>last_ordered_in</th>\n",
       "      <th>is_reorder_3</th>\n",
       "      <th>is_reorder_2</th>\n",
       "      <th>...</th>\n",
       "      <th>total_reorders_by_user</th>\n",
       "      <th>reorder_propotion_by_user</th>\n",
       "      <th>average_order_size</th>\n",
       "      <th>reorder_in_order</th>\n",
       "      <th>orders_3</th>\n",
       "      <th>orders_2</th>\n",
       "      <th>orders_1</th>\n",
       "      <th>reorder_3</th>\n",
       "      <th>reorder_2</th>\n",
       "      <th>reorder_1</th>\n",
       "    </tr>\n",
       "  </thead>\n",
       "  <tbody>\n",
       "    <tr>\n",
       "      <th>0</th>\n",
       "      <td>1</td>\n",
       "      <td>196</td>\n",
       "      <td>10.0</td>\n",
       "      <td>9.0</td>\n",
       "      <td>0.899902</td>\n",
       "      <td>1.400391</td>\n",
       "      <td>17.593750</td>\n",
       "      <td>10.0</td>\n",
       "      <td>1.0</td>\n",
       "      <td>1.0</td>\n",
       "      <td>...</td>\n",
       "      <td>41.0</td>\n",
       "      <td>0.694824</td>\n",
       "      <td>5.898438</td>\n",
       "      <td>0.706055</td>\n",
       "      <td>6</td>\n",
       "      <td>6</td>\n",
       "      <td>9</td>\n",
       "      <td>0.666504</td>\n",
       "      <td>1.0</td>\n",
       "      <td>0.666504</td>\n",
       "    </tr>\n",
       "    <tr>\n",
       "      <th>1</th>\n",
       "      <td>1</td>\n",
       "      <td>10258</td>\n",
       "      <td>9.0</td>\n",
       "      <td>8.0</td>\n",
       "      <td>0.888672</td>\n",
       "      <td>3.333984</td>\n",
       "      <td>19.562500</td>\n",
       "      <td>10.0</td>\n",
       "      <td>1.0</td>\n",
       "      <td>1.0</td>\n",
       "      <td>...</td>\n",
       "      <td>41.0</td>\n",
       "      <td>0.694824</td>\n",
       "      <td>5.898438</td>\n",
       "      <td>0.706055</td>\n",
       "      <td>6</td>\n",
       "      <td>6</td>\n",
       "      <td>9</td>\n",
       "      <td>0.666504</td>\n",
       "      <td>1.0</td>\n",
       "      <td>0.666504</td>\n",
       "    </tr>\n",
       "    <tr>\n",
       "      <th>2</th>\n",
       "      <td>1</td>\n",
       "      <td>10326</td>\n",
       "      <td>1.0</td>\n",
       "      <td>0.0</td>\n",
       "      <td>0.000000</td>\n",
       "      <td>5.000000</td>\n",
       "      <td>28.000000</td>\n",
       "      <td>5.0</td>\n",
       "      <td>0.0</td>\n",
       "      <td>0.0</td>\n",
       "      <td>...</td>\n",
       "      <td>41.0</td>\n",
       "      <td>0.694824</td>\n",
       "      <td>5.898438</td>\n",
       "      <td>0.706055</td>\n",
       "      <td>6</td>\n",
       "      <td>6</td>\n",
       "      <td>9</td>\n",
       "      <td>0.666504</td>\n",
       "      <td>1.0</td>\n",
       "      <td>0.666504</td>\n",
       "    </tr>\n",
       "    <tr>\n",
       "      <th>3</th>\n",
       "      <td>1</td>\n",
       "      <td>12427</td>\n",
       "      <td>10.0</td>\n",
       "      <td>9.0</td>\n",
       "      <td>0.899902</td>\n",
       "      <td>3.300781</td>\n",
       "      <td>17.593750</td>\n",
       "      <td>10.0</td>\n",
       "      <td>1.0</td>\n",
       "      <td>1.0</td>\n",
       "      <td>...</td>\n",
       "      <td>41.0</td>\n",
       "      <td>0.694824</td>\n",
       "      <td>5.898438</td>\n",
       "      <td>0.706055</td>\n",
       "      <td>6</td>\n",
       "      <td>6</td>\n",
       "      <td>9</td>\n",
       "      <td>0.666504</td>\n",
       "      <td>1.0</td>\n",
       "      <td>0.666504</td>\n",
       "    </tr>\n",
       "    <tr>\n",
       "      <th>4</th>\n",
       "      <td>1</td>\n",
       "      <td>13032</td>\n",
       "      <td>3.0</td>\n",
       "      <td>2.0</td>\n",
       "      <td>0.666504</td>\n",
       "      <td>6.332031</td>\n",
       "      <td>21.671875</td>\n",
       "      <td>10.0</td>\n",
       "      <td>1.0</td>\n",
       "      <td>0.0</td>\n",
       "      <td>...</td>\n",
       "      <td>41.0</td>\n",
       "      <td>0.694824</td>\n",
       "      <td>5.898438</td>\n",
       "      <td>0.706055</td>\n",
       "      <td>6</td>\n",
       "      <td>6</td>\n",
       "      <td>9</td>\n",
       "      <td>0.666504</td>\n",
       "      <td>1.0</td>\n",
       "      <td>0.666504</td>\n",
       "    </tr>\n",
       "  </tbody>\n",
       "</table>\n",
       "<p>5 rows × 69 columns</p>\n",
       "</div>"
      ],
      "text/plain": [
       "   user_id  product_id  total_product_orders_by_user  \\\n",
       "0        1         196                          10.0   \n",
       "1        1       10258                           9.0   \n",
       "2        1       10326                           1.0   \n",
       "3        1       12427                          10.0   \n",
       "4        1       13032                           3.0   \n",
       "\n",
       "   total_product_reorders_by_user  user_product_reorder_percentage  \\\n",
       "0                             9.0                         0.899902   \n",
       "1                             8.0                         0.888672   \n",
       "2                             0.0                         0.000000   \n",
       "3                             9.0                         0.899902   \n",
       "4                             2.0                         0.666504   \n",
       "\n",
       "   avg_add_to_cart_by_user  avg_days_since_last_bought  last_ordered_in  \\\n",
       "0                 1.400391                   17.593750             10.0   \n",
       "1                 3.333984                   19.562500             10.0   \n",
       "2                 5.000000                   28.000000              5.0   \n",
       "3                 3.300781                   17.593750             10.0   \n",
       "4                 6.332031                   21.671875             10.0   \n",
       "\n",
       "   is_reorder_3  is_reorder_2  ...  total_reorders_by_user  \\\n",
       "0           1.0           1.0  ...                    41.0   \n",
       "1           1.0           1.0  ...                    41.0   \n",
       "2           0.0           0.0  ...                    41.0   \n",
       "3           1.0           1.0  ...                    41.0   \n",
       "4           1.0           0.0  ...                    41.0   \n",
       "\n",
       "   reorder_propotion_by_user  average_order_size  reorder_in_order  orders_3  \\\n",
       "0                   0.694824            5.898438          0.706055         6   \n",
       "1                   0.694824            5.898438          0.706055         6   \n",
       "2                   0.694824            5.898438          0.706055         6   \n",
       "3                   0.694824            5.898438          0.706055         6   \n",
       "4                   0.694824            5.898438          0.706055         6   \n",
       "\n",
       "   orders_2  orders_1  reorder_3  reorder_2  reorder_1  \n",
       "0         6         9   0.666504        1.0   0.666504  \n",
       "1         6         9   0.666504        1.0   0.666504  \n",
       "2         6         9   0.666504        1.0   0.666504  \n",
       "3         6         9   0.666504        1.0   0.666504  \n",
       "4         6         9   0.666504        1.0   0.666504  \n",
       "\n",
       "[5 rows x 69 columns]"
      ]
     },
     "execution_count": 3,
     "metadata": {},
     "output_type": "execute_result"
    }
   ],
   "source": [
    "df = pd.read_pickle(root_pickle + 'Finaldata.pkl')\n",
    "df = reduce_memory(df)\n",
    "df.head(5)"
   ]
  },
  {
   "cell_type": "markdown",
   "metadata": {},
   "source": [
    "### Dropping unnecessary columns"
   ]
  },
  {
   "cell_type": "code",
   "execution_count": 4,
   "metadata": {},
   "outputs": [
    {
     "data": {
      "text/html": [
       "<div>\n",
       "<style scoped>\n",
       "    .dataframe tbody tr th:only-of-type {\n",
       "        vertical-align: middle;\n",
       "    }\n",
       "\n",
       "    .dataframe tbody tr th {\n",
       "        vertical-align: top;\n",
       "    }\n",
       "\n",
       "    .dataframe thead th {\n",
       "        text-align: right;\n",
       "    }\n",
       "</style>\n",
       "<table border=\"1\" class=\"dataframe\">\n",
       "  <thead>\n",
       "    <tr style=\"text-align: right;\">\n",
       "      <th></th>\n",
       "      <th>total_product_orders_by_user</th>\n",
       "      <th>total_product_reorders_by_user</th>\n",
       "      <th>user_product_reorder_percentage</th>\n",
       "      <th>avg_add_to_cart_by_user</th>\n",
       "      <th>avg_days_since_last_bought</th>\n",
       "      <th>last_ordered_in</th>\n",
       "      <th>is_reorder_3</th>\n",
       "      <th>is_reorder_2</th>\n",
       "      <th>is_reorder_1</th>\n",
       "      <th>order_number</th>\n",
       "      <th>...</th>\n",
       "      <th>total_reorders_by_user</th>\n",
       "      <th>reorder_propotion_by_user</th>\n",
       "      <th>average_order_size</th>\n",
       "      <th>reorder_in_order</th>\n",
       "      <th>orders_3</th>\n",
       "      <th>orders_2</th>\n",
       "      <th>orders_1</th>\n",
       "      <th>reorder_3</th>\n",
       "      <th>reorder_2</th>\n",
       "      <th>reorder_1</th>\n",
       "    </tr>\n",
       "  </thead>\n",
       "  <tbody>\n",
       "    <tr>\n",
       "      <th>0</th>\n",
       "      <td>10.0</td>\n",
       "      <td>9.0</td>\n",
       "      <td>0.899902</td>\n",
       "      <td>1.400391</td>\n",
       "      <td>17.593750</td>\n",
       "      <td>10.0</td>\n",
       "      <td>1.0</td>\n",
       "      <td>1.0</td>\n",
       "      <td>1.0</td>\n",
       "      <td>11.0</td>\n",
       "      <td>...</td>\n",
       "      <td>41.0</td>\n",
       "      <td>0.694824</td>\n",
       "      <td>5.898438</td>\n",
       "      <td>0.706055</td>\n",
       "      <td>6</td>\n",
       "      <td>6</td>\n",
       "      <td>9</td>\n",
       "      <td>0.666504</td>\n",
       "      <td>1.0</td>\n",
       "      <td>0.666504</td>\n",
       "    </tr>\n",
       "    <tr>\n",
       "      <th>1</th>\n",
       "      <td>9.0</td>\n",
       "      <td>8.0</td>\n",
       "      <td>0.888672</td>\n",
       "      <td>3.333984</td>\n",
       "      <td>19.562500</td>\n",
       "      <td>10.0</td>\n",
       "      <td>1.0</td>\n",
       "      <td>1.0</td>\n",
       "      <td>1.0</td>\n",
       "      <td>11.0</td>\n",
       "      <td>...</td>\n",
       "      <td>41.0</td>\n",
       "      <td>0.694824</td>\n",
       "      <td>5.898438</td>\n",
       "      <td>0.706055</td>\n",
       "      <td>6</td>\n",
       "      <td>6</td>\n",
       "      <td>9</td>\n",
       "      <td>0.666504</td>\n",
       "      <td>1.0</td>\n",
       "      <td>0.666504</td>\n",
       "    </tr>\n",
       "    <tr>\n",
       "      <th>2</th>\n",
       "      <td>1.0</td>\n",
       "      <td>0.0</td>\n",
       "      <td>0.000000</td>\n",
       "      <td>5.000000</td>\n",
       "      <td>28.000000</td>\n",
       "      <td>5.0</td>\n",
       "      <td>0.0</td>\n",
       "      <td>0.0</td>\n",
       "      <td>0.0</td>\n",
       "      <td>11.0</td>\n",
       "      <td>...</td>\n",
       "      <td>41.0</td>\n",
       "      <td>0.694824</td>\n",
       "      <td>5.898438</td>\n",
       "      <td>0.706055</td>\n",
       "      <td>6</td>\n",
       "      <td>6</td>\n",
       "      <td>9</td>\n",
       "      <td>0.666504</td>\n",
       "      <td>1.0</td>\n",
       "      <td>0.666504</td>\n",
       "    </tr>\n",
       "    <tr>\n",
       "      <th>3</th>\n",
       "      <td>10.0</td>\n",
       "      <td>9.0</td>\n",
       "      <td>0.899902</td>\n",
       "      <td>3.300781</td>\n",
       "      <td>17.593750</td>\n",
       "      <td>10.0</td>\n",
       "      <td>1.0</td>\n",
       "      <td>1.0</td>\n",
       "      <td>1.0</td>\n",
       "      <td>11.0</td>\n",
       "      <td>...</td>\n",
       "      <td>41.0</td>\n",
       "      <td>0.694824</td>\n",
       "      <td>5.898438</td>\n",
       "      <td>0.706055</td>\n",
       "      <td>6</td>\n",
       "      <td>6</td>\n",
       "      <td>9</td>\n",
       "      <td>0.666504</td>\n",
       "      <td>1.0</td>\n",
       "      <td>0.666504</td>\n",
       "    </tr>\n",
       "    <tr>\n",
       "      <th>4</th>\n",
       "      <td>3.0</td>\n",
       "      <td>2.0</td>\n",
       "      <td>0.666504</td>\n",
       "      <td>6.332031</td>\n",
       "      <td>21.671875</td>\n",
       "      <td>10.0</td>\n",
       "      <td>1.0</td>\n",
       "      <td>0.0</td>\n",
       "      <td>0.0</td>\n",
       "      <td>11.0</td>\n",
       "      <td>...</td>\n",
       "      <td>41.0</td>\n",
       "      <td>0.694824</td>\n",
       "      <td>5.898438</td>\n",
       "      <td>0.706055</td>\n",
       "      <td>6</td>\n",
       "      <td>6</td>\n",
       "      <td>9</td>\n",
       "      <td>0.666504</td>\n",
       "      <td>1.0</td>\n",
       "      <td>0.666504</td>\n",
       "    </tr>\n",
       "  </tbody>\n",
       "</table>\n",
       "<p>5 rows × 67 columns</p>\n",
       "</div>"
      ],
      "text/plain": [
       "   total_product_orders_by_user  total_product_reorders_by_user  \\\n",
       "0                          10.0                             9.0   \n",
       "1                           9.0                             8.0   \n",
       "2                           1.0                             0.0   \n",
       "3                          10.0                             9.0   \n",
       "4                           3.0                             2.0   \n",
       "\n",
       "   user_product_reorder_percentage  avg_add_to_cart_by_user  \\\n",
       "0                         0.899902                 1.400391   \n",
       "1                         0.888672                 3.333984   \n",
       "2                         0.000000                 5.000000   \n",
       "3                         0.899902                 3.300781   \n",
       "4                         0.666504                 6.332031   \n",
       "\n",
       "   avg_days_since_last_bought  last_ordered_in  is_reorder_3  is_reorder_2  \\\n",
       "0                   17.593750             10.0           1.0           1.0   \n",
       "1                   19.562500             10.0           1.0           1.0   \n",
       "2                   28.000000              5.0           0.0           0.0   \n",
       "3                   17.593750             10.0           1.0           1.0   \n",
       "4                   21.671875             10.0           1.0           0.0   \n",
       "\n",
       "   is_reorder_1  order_number  ...  total_reorders_by_user  \\\n",
       "0           1.0          11.0  ...                    41.0   \n",
       "1           1.0          11.0  ...                    41.0   \n",
       "2           0.0          11.0  ...                    41.0   \n",
       "3           1.0          11.0  ...                    41.0   \n",
       "4           0.0          11.0  ...                    41.0   \n",
       "\n",
       "   reorder_propotion_by_user  average_order_size  reorder_in_order  orders_3  \\\n",
       "0                   0.694824            5.898438          0.706055         6   \n",
       "1                   0.694824            5.898438          0.706055         6   \n",
       "2                   0.694824            5.898438          0.706055         6   \n",
       "3                   0.694824            5.898438          0.706055         6   \n",
       "4                   0.694824            5.898438          0.706055         6   \n",
       "\n",
       "   orders_2  orders_1  reorder_3  reorder_2  reorder_1  \n",
       "0         6         9   0.666504        1.0   0.666504  \n",
       "1         6         9   0.666504        1.0   0.666504  \n",
       "2         6         9   0.666504        1.0   0.666504  \n",
       "3         6         9   0.666504        1.0   0.666504  \n",
       "4         6         9   0.666504        1.0   0.666504  \n",
       "\n",
       "[5 rows x 67 columns]"
      ]
     },
     "execution_count": 4,
     "metadata": {},
     "output_type": "execute_result"
    }
   ],
   "source": [
    "df.drop(['user_id', 'product_id'], axis = 1, inplace = True)\n",
    "df.head(5)"
   ]
  },
  {
   "cell_type": "markdown",
   "metadata": {},
   "source": [
    "### We have already performed one hot encoding so there are no nominal variables in input features."
   ]
  },
  {
   "cell_type": "markdown",
   "metadata": {},
   "source": [
    "### Checking number of rows and columns for final dataframe"
   ]
  },
  {
   "cell_type": "code",
   "execution_count": 5,
   "metadata": {},
   "outputs": [
    {
     "name": "stdout",
     "output_type": "stream",
     "text": [
      "df : (8474661, 67)\n"
     ]
    }
   ],
   "source": [
    "print(\"df :\", df.shape) "
   ]
  },
  {
   "cell_type": "markdown",
   "metadata": {},
   "source": [
    "### Checking missing values in dataframe"
   ]
  },
  {
   "cell_type": "code",
   "execution_count": 6,
   "metadata": {},
   "outputs": [
    {
     "name": "stdout",
     "output_type": "stream",
     "text": [
      "Column Name                        Data Type      Missing Values\n",
      "---------------------------------  -----------  ----------------\n",
      "total_product_orders_by_user       float16                     0\n",
      "total_product_reorders_by_user     float16                     0\n",
      "user_product_reorder_percentage    float16                     0\n",
      "avg_add_to_cart_by_user            float16                     0\n",
      "avg_days_since_last_bought         float16                     0\n",
      "last_ordered_in                    float16                     0\n",
      "is_reorder_3                       float16                     0\n",
      "is_reorder_2                       float16                     0\n",
      "is_reorder_1                       float16                     0\n",
      "order_number                       float16                     0\n",
      "order_dow                          float16                     0\n",
      "order_hour_of_day                  float16                     0\n",
      "days_since_prior_order             float16                     0\n",
      "reordered                          float16                     0\n",
      "mean_add_to_cart_order             float16                     0\n",
      "total_orders                       int32                       0\n",
      "total_reorders                     float32                     0\n",
      "reorder_percentage                 float16                     0\n",
      "unique_users                       int32                       0\n",
      "order_first_time_total_cnt         int32                       0\n",
      "order_second_time_total_cnt        int32                       0\n",
      "is_organic                         int8                        0\n",
      "second_time_percent                float16                     0\n",
      "aisle_mean_add_to_cart_order       float16                     0\n",
      "aisle_std_add_to_cart_order        float16                     0\n",
      "aisle_total_orders                 int32                       0\n",
      "aisle_total_reorders               float32                     0\n",
      "aisle_reorder_percentage           float16                     0\n",
      "aisle_unique_users                 int32                       0\n",
      "aisle_0                            int8                        0\n",
      "aisle_1                            int8                        0\n",
      "aisle_2                            int8                        0\n",
      "aisle_3                            int8                        0\n",
      "aisle_4                            int8                        0\n",
      "aisle_5                            int8                        0\n",
      "aisle_6                            int8                        0\n",
      "aisle_7                            int8                        0\n",
      "department_mean_add_to_cart_order  float16                     0\n",
      "department_std_add_to_cart_order   float16                     0\n",
      "department_total_orders            int32                       0\n",
      "department_total_reorders          float32                     0\n",
      "department_reorder_percentage      float16                     0\n",
      "department_unique_users            int32                       0\n",
      "department_0                       int8                        0\n",
      "department_1                       int8                        0\n",
      "department_2                       int8                        0\n",
      "department_3                       int8                        0\n",
      "department_4                       int8                        0\n",
      "order_dow_avg                      float16                     0\n",
      "order_dow_std                      float16                     0\n",
      "order_hour_of_day_avg              float16                     0\n",
      "order_hour_of_day_std              float16                     0\n",
      "days_since_prior_order_avg         float16                     0\n",
      "days_since_prior_order_std         float16                     0\n",
      "total_orders_by_user               int8                        0\n",
      "total_products_by_user             int16                       0\n",
      "total_unique_product_by_user       int16                       0\n",
      "total_reorders_by_user             float16                     0\n",
      "reorder_propotion_by_user          float16                     0\n",
      "average_order_size                 float16                     0\n",
      "reorder_in_order                   float16                     0\n",
      "orders_3                           int8                        0\n",
      "orders_2                           int8                        0\n",
      "orders_1                           int8                        0\n",
      "reorder_3                          float16                     0\n",
      "reorder_2                          float16                     0\n",
      "reorder_1                          float16                     0\n",
      "\n",
      "Conclusion: As per above data, there is no missing values in any column\n"
     ]
    }
   ],
   "source": [
    "# check for missing values\n",
    "columns = df.columns\n",
    "Table_data = [[\"Column Name\",\"Data Type\",\"Missing Values\"]]\n",
    "\n",
    "for cols in columns:\n",
    "    data_type = df[cols].dtype\n",
    "    missing_value = df[cols].isnull().sum()\n",
    "    data = [cols,data_type,missing_value]\n",
    "    Table_data.append(data)\n",
    "    \n",
    "from tabulate import tabulate\n",
    "print(tabulate(Table_data, headers=\"firstrow\"))\n",
    "\n",
    "print(\"\\nConclusion: As per above data, there is no missing values in any column\")"
   ]
  },
  {
   "cell_type": "markdown",
   "metadata": {},
   "source": [
    "### Checking columns having only \"0\" values in their column"
   ]
  },
  {
   "cell_type": "code",
   "execution_count": 7,
   "metadata": {},
   "outputs": [
    {
     "name": "stdout",
     "output_type": "stream",
     "text": [
      "Columns having 0 value:\n",
      " Index(['is_organic'], dtype='object')\n",
      "\n",
      "Checking if any column have 0 value:\n",
      " Index([], dtype='object')\n"
     ]
    }
   ],
   "source": [
    "# check for columns having \"0\" value only in every row.\n",
    "columns_with_only_zeros = df.columns[(df == 0).all()]\n",
    "print(\"Columns having 0 value:\\n\", columns_with_only_zeros)\n",
    "\n",
    "# removing columns having \"0\" value only in every row as it will have no impact.\n",
    "df = df.drop('is_organic', axis = 1)\n",
    "\n",
    "# checking again if there are any \"0\" values\n",
    "columns_with_only_zeros = df.columns[(df == 0).all()]\n",
    "print(\"\\nChecking if any column have 0 value:\\n\" , columns_with_only_zeros)"
   ]
  },
  {
   "cell_type": "markdown",
   "metadata": {},
   "source": [
    "### Checking value counts for output column\n",
    "#### No need to perform one hot encoding on output variable as it is already a binary variable"
   ]
  },
  {
   "cell_type": "code",
   "execution_count": 8,
   "metadata": {},
   "outputs": [
    {
     "name": "stdout",
     "output_type": "stream",
     "text": [
      "Checking reordered count\n",
      " reordered\n",
      "0.0    7645837\n",
      "1.0     828824\n",
      "Name: count, dtype: int64\n"
     ]
    }
   ],
   "source": [
    "print(\"Checking reordered count\\n\",df.reordered.value_counts())"
   ]
  },
  {
   "cell_type": "markdown",
   "metadata": {},
   "source": [
    "### Creating separate dataframe for input and output variables"
   ]
  },
  {
   "cell_type": "code",
   "execution_count": 9,
   "metadata": {},
   "outputs": [],
   "source": [
    "label = 'reordered'\n",
    "x_cols = df.columns.drop('reordered')\n",
    "\n",
    "X = df[x_cols]\n",
    "y = df[label]"
   ]
  },
  {
   "cell_type": "markdown",
   "metadata": {},
   "source": [
    "### Creating separate dataframe for train and test using hold out evaluation"
   ]
  },
  {
   "cell_type": "code",
   "execution_count": 10,
   "metadata": {},
   "outputs": [
    {
     "name": "stdout",
     "output_type": "stream",
     "text": [
      "Shape for training set:  (6355995, 65)\n",
      "\n",
      "Shape for testing set:  (2118666, 65)\n"
     ]
    }
   ],
   "source": [
    "X_train, X_test, y_train, y_test = train_test_split(X, y, stratify = y, test_size = 0.25)\n",
    "\n",
    "print(\"Shape for training set: \",X_train.shape)\n",
    "print(\"\\nShape for testing set: \",X_test.shape)"
   ]
  },
  {
   "cell_type": "markdown",
   "metadata": {},
   "source": [
    "### Getting the reorder value counts for training dataset"
   ]
  },
  {
   "cell_type": "code",
   "execution_count": 12,
   "metadata": {},
   "outputs": [
    {
     "data": {
      "text/plain": [
       "reordered\n",
       "0.0    5734377\n",
       "1.0     621618\n",
       "Name: count, dtype: int64"
      ]
     },
     "execution_count": 12,
     "metadata": {},
     "output_type": "execute_result"
    }
   ],
   "source": [
    "y_train.value_counts()"
   ]
  },
  {
   "cell_type": "markdown",
   "metadata": {},
   "source": [
    "### Getting the reorder value counts for testing dataset"
   ]
  },
  {
   "cell_type": "code",
   "execution_count": 13,
   "metadata": {},
   "outputs": [
    {
     "data": {
      "text/plain": [
       "reordered\n",
       "0.0    1911460\n",
       "1.0     207206\n",
       "Name: count, dtype: int64"
      ]
     },
     "execution_count": 13,
     "metadata": {},
     "output_type": "execute_result"
    }
   ],
   "source": [
    "y_test.value_counts()"
   ]
  },
  {
   "cell_type": "markdown",
   "metadata": {},
   "source": [
    "### Creating XGBoost DMatrix for efficient memory usage and faster speed"
   ]
  },
  {
   "cell_type": "code",
   "execution_count": 14,
   "metadata": {},
   "outputs": [],
   "source": [
    "D_train = xgb.DMatrix(X_train, label=y_train)\n",
    "D_test = xgb.DMatrix(X_test, label=y_test)"
   ]
  },
  {
   "cell_type": "markdown",
   "metadata": {},
   "source": [
    "### Creating a watchlist to monitor the performance of the model during training"
   ]
  },
  {
   "cell_type": "code",
   "execution_count": 15,
   "metadata": {},
   "outputs": [],
   "source": [
    "watchlist= [(D_train, \"train\")]"
   ]
  },
  {
   "cell_type": "markdown",
   "metadata": {},
   "source": [
    "### Using below parameters for XGBoost model\n",
    "- objective: reg:logistic: This specifies that you are performing logistic regression. It means you are dealing with a binary classification problem.\n",
    "- eval_metric: logloss: This is the evaluation metric used during training. Logarithmic loss is a common metric for binary classification problems.\n",
    "- eta: Learning rate, controlling the step size during the optimization.\n",
    "- max_depth: Maximum depth of a tree.\n",
    "- min_child_weight: Minimum sum of instance weight (hessian) needed in a child.\n",
    "- gamma: Minimum loss reduction required to make a further partition on a leaf node.\n",
    "- subsample: Subsample ratio of the training instances.\n",
    "- colsample_bytree: Subsample ratio of columns when constructing each tree.\n",
    "- alpha: L1 regularization term on weights.\n",
    "- scale_pos_weight: Controls the balance of positive and negative weights. It is useful for highly imbalanced classes.\n",
    "- lambda: L2 regularization term on weights.\n",
    "\n",
    "\n",
    "- params=xgb_params: Specifies the hyperparameters for the model.\n",
    "- dtrain=D_train: Specifies the training data.\n",
    "- num_boost_round=80: Number of boosting rounds (trees) to be run.\n",
    "- evals=watchlist: Specifies the watchlist for evaluation during training.\n",
    "- verbose_eval=10: it prints the evaluation metric every 10 rounds."
   ]
  },
  {
   "cell_type": "markdown",
   "metadata": {},
   "source": [
    "### Creating Models"
   ]
  },
  {
   "cell_type": "markdown",
   "metadata": {},
   "source": [
    "#### 01. First XGBoost Model with different hyper parameters"
   ]
  },
  {
   "cell_type": "code",
   "execution_count": 16,
   "metadata": {},
   "outputs": [
    {
     "name": "stdout",
     "output_type": "stream",
     "text": [
      "[0]\ttrain-logloss:0.69785\n",
      "[10]\ttrain-logloss:0.57498\n",
      "[20]\ttrain-logloss:0.54776\n",
      "[30]\ttrain-logloss:0.53828\n",
      "[40]\ttrain-logloss:0.53421\n",
      "[50]\ttrain-logloss:0.53163\n",
      "[60]\ttrain-logloss:0.52993\n",
      "[70]\ttrain-logloss:0.52867\n",
      "[79]\ttrain-logloss:0.52764\n",
      "\n",
      "XGBoost Model 1 Evaluation Metrics:\n",
      "\n",
      "Accuracy Score :  0.747832362439384\n",
      "ROC-AUC Score :  0.8300111792880859\n"
     ]
    }
   ],
   "source": [
    "# Hyperparameter tuning\n",
    "xgb_params = {\n",
    "    \"objective\"        :\"reg:logistic\",\n",
    "    \"eval_metric\"      :\"logloss\",\n",
    "    \"eta\"              :0.1,\n",
    "    \"max_depth\"        :6,\n",
    "    \"min_child_weight\" :10,\n",
    "    \"gamma\"            :0.70,\n",
    "    \"subsample\"        :0.76,\n",
    "    \"colsample_bytree\" :0.95,\n",
    "    \"alpha\"            :2e-05,\n",
    "    \"scale_pos_weight\" :10,\n",
    "    \"lambda\"           :10\n",
    "}\n",
    "\n",
    "# Model creation\n",
    "model = xgb.train(params=xgb_params, dtrain=D_train, num_boost_round = 80, evals = watchlist, verbose_eval = 10)\n",
    "\n",
    "# Making predictions on test dataset\n",
    "probability = model.predict(D_test)\n",
    "predictions = [1 if i > 0.5 else 0 for i in probability]\n",
    "\n",
    "# For printing evaluation metric of all model\n",
    "Table_data = [[\"Algorithm type\",\"Accuracy\",\"ROC-AUC-Score\"]]\n",
    "\n",
    "# Calculating different evaluation metrics\n",
    "# As target variable \"classification\" is binary, we will not use \"macro\" or\"micro\" for evaluation metric.\n",
    "accuracy_XGBoost_1 = accuracy_score(y_test, predictions)\n",
    "rocauc_XGBoost_1 = roc_auc_score(y_test, probability)\n",
    "\n",
    "data_XGBoost_1 = ['XGBoost 1', str(accuracy_XGBoost_1), str(rocauc_XGBoost_1)]\n",
    "Table_data.append(data_XGBoost_1) \n",
    "\n",
    "print(\"\\nXGBoost Model 1 Evaluation Metrics:\\n\")\n",
    "print(\"Accuracy Score : \",accuracy_XGBoost_1)\n",
    "print(\"ROC-AUC Score : \",rocauc_XGBoost_1)"
   ]
  },
  {
   "cell_type": "markdown",
   "metadata": {},
   "source": [
    "#### 02. Second XGBoost Model with different hyper parameters"
   ]
  },
  {
   "cell_type": "code",
   "execution_count": 17,
   "metadata": {},
   "outputs": [
    {
     "name": "stdout",
     "output_type": "stream",
     "text": [
      "[0]\ttrain-logloss:0.46523\n",
      "[10]\ttrain-logloss:0.38470\n",
      "[20]\ttrain-logloss:0.37683\n",
      "[30]\ttrain-logloss:0.37385\n",
      "[40]\ttrain-logloss:0.37216\n",
      "[50]\ttrain-logloss:0.37093\n",
      "[60]\ttrain-logloss:0.37013\n",
      "[70]\ttrain-logloss:0.36952\n",
      "[79]\ttrain-logloss:0.36889\n",
      "\n",
      "XGBoost Model 2 Evaluation Metrics:\n",
      "\n",
      "Accuracy Score :  0.8512719796324668\n",
      "ROC-AUC Score :  0.831215722595705\n"
     ]
    }
   ],
   "source": [
    "# Hyperparameter tuning\n",
    "xgb_params = {\n",
    "    \"objective\"        :\"reg:logistic\",\n",
    "    \"eval_metric\"      :\"logloss\",\n",
    "    \"eta\"              :0.2,\n",
    "    \"max_depth\"        :5,\n",
    "    \"min_child_weight\" :10,\n",
    "    \"gamma\"            :0.75,\n",
    "    \"subsample\"        :0.8,\n",
    "    \"colsample_bytree\" :0.90,\n",
    "    \"alpha\"            :2e-05,\n",
    "    \"scale_pos_weight\" :5,\n",
    "    \"lambda\"           :10\n",
    "}\n",
    "\n",
    "# Model creation\n",
    "model = xgb.train(params=xgb_params, dtrain=D_train, num_boost_round = 80, evals = watchlist, verbose_eval = 10)\n",
    "\n",
    "# Making predictions on test dataset\n",
    "probability = model.predict(D_test)\n",
    "predictions = [1 if i > 0.5 else 0 for i in probability]\n",
    "\n",
    "# Calculating different evaluation metrics\n",
    "# As target variable \"classification\" is binary, we will not use \"macro\" or\"micro\" for evaluation metric.\n",
    "accuracy_XGBoost_2 = accuracy_score(y_test, predictions)\n",
    "rocauc_XGBoost_2 = roc_auc_score(y_test, probability)\n",
    "\n",
    "# For printing evaluation metric of all model\n",
    "data_XGBoost_2 = ['XGBoost 2', str(accuracy_XGBoost_2), str(rocauc_XGBoost_2)]\n",
    "Table_data.append(data_XGBoost_2) \n",
    "\n",
    "print(\"\\nXGBoost Model 2 Evaluation Metrics:\\n\")\n",
    "print(\"Accuracy Score : \",accuracy_XGBoost_2)\n",
    "print(\"ROC-AUC Score : \",rocauc_XGBoost_2)"
   ]
  },
  {
   "cell_type": "markdown",
   "metadata": {},
   "source": [
    "### Overall evaluation metric for our models"
   ]
  },
  {
   "cell_type": "code",
   "execution_count": 18,
   "metadata": {},
   "outputs": [
    {
     "name": "stdout",
     "output_type": "stream",
     "text": [
      "Classification model evaluation metric:\n",
      "\n",
      "Algorithm type      Accuracy    ROC-AUC-Score\n",
      "----------------  ----------  ---------------\n",
      "XGBoost 1           0.747832         0.830011\n",
      "XGBoost 2           0.851272         0.831216\n"
     ]
    }
   ],
   "source": [
    "# Printing Evaluation metric of overall models\n",
    "\n",
    "print(\"Classification model evaluation metric:\\n\")        \n",
    "print(tabulate(Table_data, headers=\"firstrow\"))"
   ]
  }
 ],
 "metadata": {
  "kernelspec": {
   "display_name": "Python 3 (ipykernel)",
   "language": "python",
   "name": "python3"
  },
  "language_info": {
   "codemirror_mode": {
    "name": "ipython",
    "version": 3
   },
   "file_extension": ".py",
   "mimetype": "text/x-python",
   "name": "python",
   "nbconvert_exporter": "python",
   "pygments_lexer": "ipython3",
   "version": "3.9.18"
  }
 },
 "nbformat": 4,
 "nbformat_minor": 2
}
